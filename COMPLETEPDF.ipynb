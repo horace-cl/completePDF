{
 "cells": [
  {
   "cell_type": "code",
   "execution_count": 3,
   "metadata": {},
   "outputs": [],
   "source": [
    "BIN = 4"
   ]
  },
  {
   "cell_type": "code",
   "execution_count": 1,
   "metadata": {},
   "outputs": [],
   "source": [
    "import sys\n",
    "import os\n",
    "import tensorflow as tf\n",
    "gpus = tf.config.experimental.list_physical_devices('GPU')\n",
    "tf.config.experimental.set_memory_growth(gpus[0], True)\n",
    "import zfit\n",
    "\n",
    "import random\n",
    "import json\n",
    "import pandas as pd\n",
    "from time import time\n",
    "\n",
    "import numpy as np\n",
    "import matplotlib.pyplot as plt\n",
    "import mplhep as hep\n",
    "\n",
    "import scipy.stats as stats\n",
    "from scipy.optimize import minimize\n",
    "\n",
    "sys.path.append('..')\n",
    "import SLSQP_zfit\n",
    "import time\n",
    "\n",
    "import mplhep as hep\n",
    "plt.style.use(hep.style.CMS)"
   ]
  },
  {
   "cell_type": "code",
   "execution_count": 2,
   "metadata": {},
   "outputs": [],
   "source": [
    "class decayWidth(zfit.pdf.BasePDF):  \n",
    "    \"\"\"\n",
    "    Decay width of the decay:\n",
    "    bu -> su mu mu\n",
    "    \"\"\"\n",
    "    def __init__(self, AFB, FH, obs, name=\"angular_dist\" ):\n",
    "        # se debe definir los parametros a pasar a la pdf\n",
    "        params = {\n",
    "              'AFB': AFB,\n",
    "              'FH': FH, }\n",
    "        super().__init__(obs, params, name=name)\n",
    "\n",
    "\n",
    "    def _unnormalized_pdf(self, x):\n",
    "        #cos_l, mass = x.unstack_x()\n",
    "        cos_l = zfit.ztf.unstack_x(x)\n",
    "\n",
    "        AFB, FH = self.params['AFB'], self.params['FH']\n",
    "\n",
    "        # aqui definimos la pdf\n",
    "        #alpha_lambda = 0.642\n",
    "        cos2_l = cos_l*cos_l\n",
    "\n",
    "        pdf = 3/4*(1-FH)*(1-cos2_l)\n",
    "        pdf += 1/2*FH\n",
    "        pdf += AFB*cos_l\n",
    "\n",
    "        return pdf"
   ]
  },
  {
   "cell_type": "code",
   "execution_count": 5,
   "metadata": {},
   "outputs": [],
   "source": [
    "with open(f'Params/Bin{BIN}.json') as f:\n",
    "    params = json.load(f)"
   ]
  },
  {
   "cell_type": "code",
   "execution_count": 6,
   "metadata": {},
   "outputs": [
    {
     "name": "stderr",
     "output_type": "stream",
     "text": [
      "/home/horacio/Documents/pycms/lib64/python3.6/site-packages/zfit/core/basepdf.py:443: UserWarning: As `copy` is not yet properly implemented, this may fails (for ProductPDF for example?). Thiswill be fixed in the future.\n",
      "  \"As `copy` is not yet properly implemented, this may fails (for ProductPDF for example?). This\"\n"
     ]
    }
   ],
   "source": [
    "cos = zfit.Space(obs='cosThetaKMu', limits=[-1,1])\n",
    "mass = zfit.Space(obs='BMass', limits=[5,5.7])\n",
    "\n",
    "afb_ini = params['Signal']['angle']['AFB']\n",
    "fh_ini = params['Signal']['angle']['FH']\n",
    "\n",
    "AFB = zfit.Parameter('A_FB', afb_ini)\n",
    "FH = zfit.Parameter('F_H', fh_ini)\n",
    "decay = decayWidth(AFB = AFB, FH=FH, obs=cos)\n",
    "\n",
    "efficiency = zfit.pdf.Chebyshev(obs=cos, \n",
    "                    coeffs=params['Signal']['angle']['Chi2EffyCoefs'][1:])\n",
    "\n",
    "decay_eff = zfit.pdf.ProductPDF(pdfs=[decay, efficiency], obs=cos)\n",
    "\n",
    "L = params['Background']['angle']['2SideBands']['Left']\n",
    "background_LGauss = zfit.pdf.Gauss(mu = L['mu'], sigma=L['sigma'], obs=cos )\n",
    "background_LCheby = zfit.pdf.Chebyshev(coeffs=L['coefs'][1:], obs=cos )\n",
    "background_L = zfit.pdf.SumPDF(pdfs=[background_LCheby, background_LGauss], fracs=L['fraction_Cheby'])\n",
    "\n",
    "R = params['Background']['angle']['2SideBands']['Right']\n",
    "background_RGauss = zfit.pdf.Gauss(mu = R['mu'], sigma=R['sigma'], obs=cos )\n",
    "background_RCheby = zfit.pdf.Chebyshev(coeffs=R['coefs'][1:], obs=cos )\n",
    "background_R = zfit.pdf.SumPDF(pdfs=[background_RCheby, background_RGauss], fracs=R['fraction_Cheby'])\n",
    "\n",
    "frac_ = zfit.Parameter(name='Background_frac', value=0.5)\n",
    "background_angular = zfit.pdf.SumPDF(pdfs=[background_L, background_R], fracs=frac_, name='background_Sidebands')\n",
    "\n",
    "\n",
    "mass_signal_params = params['Signal']['mass']['2Gaussian+CrystalBall']\n",
    "\n",
    "signalCB = zfit.pdf.CrystalBall(mu=mass_signal_params['muCB'], \n",
    "                                sigma=mass_signal_params['sigmaCB'], \n",
    "                                alpha=mass_signal_params['alphaCB'], \n",
    "                                n=mass_signal_params['nCB'], \n",
    "                                obs=mass, \n",
    "                                name='signal_CrystalBall')\n",
    "\n",
    "signalG1 = zfit.pdf.Gauss(mu=mass_signal_params['muGauss'], \n",
    "                          sigma=mass_signal_params['sigmaGauss1'], \n",
    "                          obs=mass, \n",
    "                          name='signal_Gaussian1')\n",
    "\n",
    "signalG2 = zfit.pdf.Gauss(mu=mass_signal_params['muGauss'], \n",
    "                          sigma=mass_signal_params['sigmaGauss2'], \n",
    "                          obs=mass, \n",
    "                          name='signal_Gaussian2')\n",
    "\n",
    "fracs = mass_signal_params['fracCB'], mass_signal_params['fracGauss1'], mass_signal_params['fracGauss2']\n",
    "\n",
    "signal_mass = zfit.pdf.SumPDF([signalCB, signalG1, signalG2], fracs=[fracs[0]/sum(fracs), fracs[1]/sum(fracs)], \n",
    "                          name='signal_CB+2Gauss')\n",
    "\n",
    "mass_background_params = params['Background']['mass']['Exponential+Gauss']\n",
    "\n",
    "\n",
    "backExponential = zfit.pdf.Exponential(lambda_=mass_background_params['lambda_'], \n",
    "                            obs=mass,\n",
    "                            name='background_Exponential')\n",
    "\n",
    "backBGauss = zfit.pdf.Gauss(mu=mass_background_params['mu'],\n",
    "                            sigma=mass_background_params['sigma'],\n",
    "                            obs=mass,\n",
    "                            name='background_Gaussian')\n",
    "\n",
    "background_mass = zfit.pdf.SumPDF([backExponential, backBGauss], fracs=mass_background_params['fraction_exp'], \n",
    "                          name='background_Gauss+Exp')\n",
    "\n",
    "complete_signal = signal_mass*decay_eff\n",
    "complete_background = background_mass*background_angular\n",
    "\n",
    "\n",
    "s_ini, b_ini = params['Signal']['yield'], params['Background']['yield']\n",
    "Total = s_ini + b_ini\n",
    "S = zfit.Parameter('signalYield', s_ini, 0, Total)\n",
    "B = zfit.Parameter('backgroundYield', b_ini, 0, Total)\n",
    "\n",
    "signal_extended = complete_signal.create_extended(yield_=S)\n",
    "background_extended = complete_background.create_extended(yield_=B)\n",
    "\n",
    "#---------------------------------------------------------------------#\n",
    "#---------------------------------------------------------------------#\n",
    "complete_pdf = signal_extended+background_extended\n",
    "#---------------------------------------------------------------------#\n",
    "#---------------------------------------------------------------------#"
   ]
  },
  {
   "cell_type": "code",
   "execution_count": 8,
   "metadata": {},
   "outputs": [],
   "source": [
    "sampler = complete_pdf.create_sampler()"
   ]
  },
  {
   "cell_type": "code",
   "execution_count": 17,
   "metadata": {},
   "outputs": [],
   "source": [
    "sampler.resample()\n",
    "dataframe = sampler.to_pandas()"
   ]
  },
  {
   "cell_type": "code",
   "execution_count": 22,
   "metadata": {},
   "outputs": [
    {
     "data": {
      "image/png": "[encoded data removed]",
      "text/plain": [
       "<Figure size 720x720 with 1 Axes>"
      ]
     },
     "metadata": {
      "needs_background": "light"
     },
     "output_type": "display_data"
    }
   ],
   "source": [
    "plt.hist(dataframe.BMass, bins=70)\n",
    "plt.xlabel('B Mass')\n",
    "plt.show()"
   ]
  },
  {
   "cell_type": "code",
   "execution_count": 25,
   "metadata": {},
   "outputs": [
    {
     "data": {
      "image/png": "[encoded data removed]",
      "text/plain": [
       "<Figure size 720x720 with 1 Axes>"
      ]
     },
     "metadata": {
      "needs_background": "light"
     },
     "output_type": "display_data"
    }
   ],
   "source": [
    "plt.hist(dataframe.cosThetaKMu, bins=20)\n",
    "plt.xlabel(r'cos($\\theta$)')\n",
    "plt.show()"
   ]
  },
  {
   "cell_type": "code",
   "execution_count": 26,
   "metadata": {},
   "outputs": [
    {
     "name": "stderr",
     "output_type": "stream",
     "text": [
      "/home/horacio/Documents/pycms/lib64/python3.6/site-packages/zfit/core/loss.py:159: AdvancedFeatureWarning: Either you're using an advanced feature OR causing unwanted behavior. To turn this warning off, use `zfit.settings.advanced_warnings['inconsistent_fitrange']` = False`  or 'all' (use with care) with `zfit.settings.advanced_warnings['all'] = False\n",
      "PDFs [<zfit.SumPDF  params=[Composed_autoparam_46, Composed_autoparam_47] dtype=float64>0] as well as `data` [<zfit.core.data.Data object at 0x7f62d42c3278>] have different ranges [(<zfit Space obs=('BMass', 'cosThetaKMu'), axes=(0, 1), limits=(array([[ 5., -1.]]), array([[5.7, 1. ]]))>, <zfit Space obs=('BMass', 'cosThetaKMu'), axes=(0, 1), limits=None>)] they are defined in. The data range will cut the data while the norm range defines the normalization.\n",
      "  identifier='inconsistent_fitrange')\n"
     ]
    }
   ],
   "source": [
    "DATA_Z = zfit.Data.from_pandas(df = dataframe,obs=complete_pdf.obs) \n",
    "NLL_DATA =  zfit.loss.ExtendedUnbinnedNLL(complete_pdf, DATA_Z)"
   ]
  },
  {
   "cell_type": "code",
   "execution_count": 27,
   "metadata": {},
   "outputs": [],
   "source": [
    "constAngParams_Full = ({'type': 'ineq', 'fun': lambda x:  x[3]},\n",
    "                 {'type': 'ineq', 'fun': lambda x:  3-x[2]},\n",
    "                 {'type': 'ineq', 'fun': lambda x:  x[3]/2-x[2]},\n",
    "                 {'type': 'ineq', 'fun': lambda x:  x[3]/2+x[2]})\n",
    "\n",
    "SLSQP_FULL = SLSQP_zfit.SLSQP(constraints=constAngParams_Full )"
   ]
  },
  {
   "cell_type": "code",
   "execution_count": 28,
   "metadata": {},
   "outputs": [],
   "source": [
    "minimize_FULL = SLSQP_FULL.minimize(NLL_DATA)"
   ]
  },
  {
   "cell_type": "code",
   "execution_count": 29,
   "metadata": {},
   "outputs": [
    {
     "data": {
      "text/plain": [
       "\u001b[1mFitResult\u001b[22m of\n",
       "<ExtendedUnbinnedNLL model=[<zfit.SumPDF  params=[Composed_autoparam_46, Composed_autoparam_47] dtype=float64>0] data=[<zfit.core.data.Data object at 0x7f62d42c3278>] constraints=[]> \n",
       "with\n",
       "<function minimize at 0x7f637c0f3ea0>\n",
       "\n",
       "╒═════════╤═════════════╤══════════════════╤═══════╤═════════════╕\n",
       "│ valid   │ converged   │ param at limit   │ edm   │ min value   │\n",
       "╞═════════╪═════════════╪══════════════════╪═══════╪═════════════╡\n",
       "│ \u001b[48;5;10mTrue\u001b[0m    │ True\u001b[0m        │ False\u001b[0m            │ -1    │ -8.089e+04  │\n",
       "╘═════════╧═════════════╧══════════════════╧═══════╧═════════════╛\n",
       "\n",
       "\u001b[1mParameters\n",
       "\u001b[22mname                value    at limit\n",
       "---------------  --------  ----------\n",
       "signalYield          2089       False\u001b[0m\n",
       "backgroundYield      7981       False\u001b[0m\n",
       "A_FB             0.008937       False\u001b[0m\n",
       "F_H                0.2135       False\u001b[0m\n",
       "Background_frac    0.5243       False\u001b[0m"
      ]
     },
     "execution_count": 29,
     "metadata": {},
     "output_type": "execute_result"
    }
   ],
   "source": [
    "minimize_FULL"
   ]
  },
  {
   "cell_type": "code",
   "execution_count": 30,
   "metadata": {},
   "outputs": [
    {
     "data": {
      "text/plain": [
       "(0, 0.2)"
      ]
     },
     "execution_count": 30,
     "metadata": {},
     "output_type": "execute_result"
    }
   ],
   "source": [
    "afb_ini, fh_ini"
   ]
  },
  {
   "cell_type": "code",
   "execution_count": null,
   "metadata": {},
   "outputs": [],
   "source": []
  }
 ],
 "metadata": {
  "kernelspec": {
   "display_name": "pycms",
   "language": "python",
   "name": "pycms"
  },
  "language_info": {
   "codemirror_mode": {
    "name": "ipython",
    "version": 3
   },
   "file_extension": ".py",
   "mimetype": "text/x-python",
   "name": "python",
   "nbconvert_exporter": "python",
   "pygments_lexer": "ipython3",
   "version": "3.6.8"
  }
 },
 "nbformat": 4,
 "nbformat_minor": 4
}
